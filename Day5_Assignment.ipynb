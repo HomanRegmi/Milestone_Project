{
 "cells": [
  {
   "cell_type": "code",
   "execution_count": 258,
   "id": "a76db6ff",
   "metadata": {},
   "outputs": [],
   "source": [
    "import pandas as pd\n",
    "import numpy as np"
   ]
  },
  {
   "cell_type": "code",
   "execution_count": 259,
   "id": "4634d2f9",
   "metadata": {},
   "outputs": [],
   "source": [
    "import matplotlib.pyplot as plt\n",
    "import seaborn as sns\n",
    "%matplotlib inline"
   ]
  },
  {
   "cell_type": "markdown",
   "id": "fd8a45d5",
   "metadata": {},
   "source": [
    "#### Import data"
   ]
  },
  {
   "cell_type": "code",
   "execution_count": 260,
   "id": "a2464d6d",
   "metadata": {},
   "outputs": [],
   "source": [
    "frame1 = pd.read_csv('Total_jobs.csv')"
   ]
  },
  {
   "cell_type": "code",
   "execution_count": 261,
   "id": "e77894ee",
   "metadata": {},
   "outputs": [],
   "source": [
    "frame2 = pd.read_csv('Avg_Income.csv')"
   ]
  },
  {
   "cell_type": "code",
   "execution_count": 262,
   "id": "acb88ff4",
   "metadata": {},
   "outputs": [],
   "source": [
    "frame3 = (pd.concat([frame1, frame2]))"
   ]
  },
  {
   "cell_type": "markdown",
   "id": "666b8317",
   "metadata": {},
   "source": [
    "#### Fill all NaN value with 0 before log transformation (My logic)"
   ]
  },
  {
   "cell_type": "code",
   "execution_count": 263,
   "id": "9fa5c3cb",
   "metadata": {
    "scrolled": true
   },
   "outputs": [],
   "source": [
    "frame4 = frame3.fillna(value=0)"
   ]
  },
  {
   "cell_type": "markdown",
   "id": "28ebca47",
   "metadata": {},
   "source": [
    "#### Perform log transformation using pandas' .apply() method and numpy.log()"
   ]
  },
  {
   "cell_type": "code",
   "execution_count": 264,
   "id": "5e48a684",
   "metadata": {},
   "outputs": [],
   "source": [
    "small_constant = 0.5"
   ]
  },
  {
   "cell_type": "code",
   "execution_count": 265,
   "id": "1bbbadac",
   "metadata": {},
   "outputs": [],
   "source": [
    "frame4['Log_Job'] = np.log(frame4['Job created'] + small_constant)"
   ]
  },
  {
   "cell_type": "code",
   "execution_count": 266,
   "id": "a9c6187b",
   "metadata": {},
   "outputs": [],
   "source": [
    "frame4['Log_saving'] = np.log(frame4['Total Savings'] + small_constant)"
   ]
  },
  {
   "cell_type": "code",
   "execution_count": 267,
   "id": "b3032547",
   "metadata": {},
   "outputs": [
    {
     "data": {
      "text/html": [
       "<div>\n",
       "<style scoped>\n",
       "    .dataframe tbody tr th:only-of-type {\n",
       "        vertical-align: middle;\n",
       "    }\n",
       "\n",
       "    .dataframe tbody tr th {\n",
       "        vertical-align: top;\n",
       "    }\n",
       "\n",
       "    .dataframe thead th {\n",
       "        text-align: right;\n",
       "    }\n",
       "</style>\n",
       "<table border=\"1\" class=\"dataframe\">\n",
       "  <thead>\n",
       "    <tr style=\"text-align: right;\">\n",
       "      <th></th>\n",
       "      <th>NTA</th>\n",
       "      <th>Job created</th>\n",
       "      <th>Total Savings</th>\n",
       "      <th>Log_Job</th>\n",
       "      <th>Log_saving</th>\n",
       "    </tr>\n",
       "  </thead>\n",
       "  <tbody>\n",
       "    <tr>\n",
       "      <th>0</th>\n",
       "      <td>Battery Park City-Lower Manhattan</td>\n",
       "      <td>0.0</td>\n",
       "      <td>0.0</td>\n",
       "      <td>-0.693147</td>\n",
       "      <td>-0.693147</td>\n",
       "    </tr>\n",
       "    <tr>\n",
       "      <th>1</th>\n",
       "      <td>Bushwick South</td>\n",
       "      <td>10.0</td>\n",
       "      <td>0.0</td>\n",
       "      <td>2.351375</td>\n",
       "      <td>-0.693147</td>\n",
       "    </tr>\n",
       "    <tr>\n",
       "      <th>2</th>\n",
       "      <td>Carroll Gardens-Columbia Street-Red Hook</td>\n",
       "      <td>0.0</td>\n",
       "      <td>0.0</td>\n",
       "      <td>-0.693147</td>\n",
       "      <td>-0.693147</td>\n",
       "    </tr>\n",
       "    <tr>\n",
       "      <th>3</th>\n",
       "      <td>College Point</td>\n",
       "      <td>2.0</td>\n",
       "      <td>0.0</td>\n",
       "      <td>0.916291</td>\n",
       "      <td>-0.693147</td>\n",
       "    </tr>\n",
       "    <tr>\n",
       "      <th>4</th>\n",
       "      <td>Crown Heights North</td>\n",
       "      <td>0.0</td>\n",
       "      <td>0.0</td>\n",
       "      <td>-0.693147</td>\n",
       "      <td>-0.693147</td>\n",
       "    </tr>\n",
       "  </tbody>\n",
       "</table>\n",
       "</div>"
      ],
      "text/plain": [
       "                                        NTA  Job created  Total Savings  \\\n",
       "0         Battery Park City-Lower Manhattan          0.0            0.0   \n",
       "1                            Bushwick South         10.0            0.0   \n",
       "2  Carroll Gardens-Columbia Street-Red Hook          0.0            0.0   \n",
       "3                             College Point          2.0            0.0   \n",
       "4                       Crown Heights North          0.0            0.0   \n",
       "\n",
       "    Log_Job  Log_saving  \n",
       "0 -0.693147   -0.693147  \n",
       "1  2.351375   -0.693147  \n",
       "2 -0.693147   -0.693147  \n",
       "3  0.916291   -0.693147  \n",
       "4 -0.693147   -0.693147  "
      ]
     },
     "execution_count": 267,
     "metadata": {},
     "output_type": "execute_result"
    }
   ],
   "source": [
    "frame4.head()"
   ]
  },
  {
   "cell_type": "markdown",
   "id": "3de138b5",
   "metadata": {},
   "source": [
    "#### scatter plot of job created versus average total savings"
   ]
  },
  {
   "cell_type": "code",
   "execution_count": 268,
   "id": "a3ab4b66",
   "metadata": {},
   "outputs": [],
   "source": [
    "x1 = frame4['Job created']\n",
    "y1 = frame4['Total Savings']"
   ]
  },
  {
   "cell_type": "code",
   "execution_count": 269,
   "id": "14dc989c",
   "metadata": {},
   "outputs": [
    {
     "data": {
      "text/plain": [
       "Text(0, 0.5, 'Average Total Saving')"
      ]
     },
     "execution_count": 269,
     "metadata": {},
     "output_type": "execute_result"
    },
    {
     "data": {
      "image/png": "[encoded data removed]",
      "text/plain": [
       "<Figure size 640x480 with 1 Axes>"
      ]
     },
     "metadata": {},
     "output_type": "display_data"
    }
   ],
   "source": [
    "plt.scatter(x1, y1)\n",
    "plt.title('Scatter Plot')\n",
    "plt.xlabel('Jobs Created')\n",
    "plt.ylabel('Average Total Saving')"
   ]
  },
  {
   "cell_type": "code",
   "execution_count": 270,
   "id": "76d6ad53",
   "metadata": {},
   "outputs": [],
   "source": [
    "x2 = frame4['Log_Job']\n",
    "y2 = frame4['Log_saving']"
   ]
  },
  {
   "cell_type": "code",
   "execution_count": 271,
   "id": "a4eaf681",
   "metadata": {},
   "outputs": [
    {
     "data": {
      "text/plain": [
       "Text(0, 0.5, 'Average Total Saving')"
      ]
     },
     "execution_count": 271,
     "metadata": {},
     "output_type": "execute_result"
    },
    {
     "data": {
      "image/png": "[encoded data removed]",
      "text/plain": [
       "<Figure size 640x480 with 1 Axes>"
      ]
     },
     "metadata": {},
     "output_type": "display_data"
    }
   ],
   "source": [
    "plt.scatter(x2, y2)\n",
    "plt.title('Scatter Plot')\n",
    "plt.xlabel('Jobs Created')\n",
    "plt.ylabel('Average Total Saving')"
   ]
  },
  {
   "cell_type": "markdown",
   "id": "def93648",
   "metadata": {},
   "source": [
    "#### Histogram of the log of the average total savings."
   ]
  },
  {
   "cell_type": "code",
   "execution_count": 272,
   "id": "b19ce4cb",
   "metadata": {},
   "outputs": [
    {
     "data": {
      "text/plain": [
       "(array([18.,  0.,  0.,  0.,  0.,  0.,  3., 10.,  4.,  1.]),\n",
       " array([-0.69314718,  0.6821932 ,  2.05753359,  3.43287397,  4.80821436,\n",
       "         6.18355474,  7.55889513,  8.93423551, 10.30957589, 11.68491628,\n",
       "        13.06025666]),\n",
       " <BarContainer object of 10 artists>)"
      ]
     },
     "execution_count": 272,
     "metadata": {},
     "output_type": "execute_result"
    },
    {
     "data": {
      "image/png": "[encoded data removed]",
      "text/plain": [
       "<Figure size 640x480 with 1 Axes>"
      ]
     },
     "metadata": {},
     "output_type": "display_data"
    }
   ],
   "source": [
    "plt.hist(y2)"
   ]
  },
  {
   "cell_type": "markdown",
   "id": "b5afe8c5",
   "metadata": {},
   "source": [
    "#### Line plot of the total jobs created for each month."
   ]
  },
  {
   "cell_type": "code",
   "execution_count": 273,
   "id": "81639447",
   "metadata": {},
   "outputs": [],
   "source": [
    "Data = pd.read_csv('Value_of_Energy_Cost_Savings_Program_Savings_for_Businesses_-_FY2020.csv')"
   ]
  },
  {
   "cell_type": "code",
   "execution_count": 274,
   "id": "b730f993",
   "metadata": {},
   "outputs": [],
   "source": [
    "Data['Effective Date'] = pd.to_datetime(Data['Effective Date'])"
   ]
  },
  {
   "cell_type": "code",
   "execution_count": 275,
   "id": "1fa69479",
   "metadata": {},
   "outputs": [
    {
     "data": {
      "text/plain": [
       "'March'"
      ]
     },
     "execution_count": 275,
     "metadata": {},
     "output_type": "execute_result"
    }
   ],
   "source": [
    "Data.loc[0, 'Effective Date'].month_name()"
   ]
  },
  {
   "cell_type": "code",
   "execution_count": 276,
   "id": "5c9841b5",
   "metadata": {},
   "outputs": [],
   "source": [
    "Month = Data['Effective Date'].dt.month_name()"
   ]
  },
  {
   "cell_type": "code",
   "execution_count": 277,
   "id": "3d51785d",
   "metadata": {},
   "outputs": [
    {
     "data": {
      "text/plain": [
       "0         March\n",
       "1         April\n",
       "2       January\n",
       "3      February\n",
       "4          June\n",
       "         ...   \n",
       "445    December\n",
       "446    December\n",
       "447      August\n",
       "448     January\n",
       "449     October\n",
       "Name: Effective Date, Length: 450, dtype: object"
      ]
     },
     "execution_count": 277,
     "metadata": {},
     "output_type": "execute_result"
    }
   ],
   "source": [
    "Month"
   ]
  },
  {
   "cell_type": "code",
   "execution_count": 278,
   "id": "cf215e46",
   "metadata": {},
   "outputs": [],
   "source": [
    "Jobs = Data [['Job created']]"
   ]
  },
  {
   "cell_type": "code",
   "execution_count": 279,
   "id": "7a9d6767",
   "metadata": {},
   "outputs": [],
   "source": [
    "Jobs1 = (pd.concat([Month, Jobs]))"
   ]
  },
  {
   "cell_type": "code",
   "execution_count": 280,
   "id": "b2f97057",
   "metadata": {},
   "outputs": [
    {
     "data": {
      "text/html": [
       "<div>\n",
       "<style scoped>\n",
       "    .dataframe tbody tr th:only-of-type {\n",
       "        vertical-align: middle;\n",
       "    }\n",
       "\n",
       "    .dataframe tbody tr th {\n",
       "        vertical-align: top;\n",
       "    }\n",
       "\n",
       "    .dataframe thead th {\n",
       "        text-align: right;\n",
       "    }\n",
       "</style>\n",
       "<table border=\"1\" class=\"dataframe\">\n",
       "  <thead>\n",
       "    <tr style=\"text-align: right;\">\n",
       "      <th></th>\n",
       "      <th>0</th>\n",
       "      <th>Job created</th>\n",
       "    </tr>\n",
       "  </thead>\n",
       "  <tbody>\n",
       "    <tr>\n",
       "      <th>0</th>\n",
       "      <td>March</td>\n",
       "      <td>NaN</td>\n",
       "    </tr>\n",
       "    <tr>\n",
       "      <th>1</th>\n",
       "      <td>April</td>\n",
       "      <td>NaN</td>\n",
       "    </tr>\n",
       "    <tr>\n",
       "      <th>2</th>\n",
       "      <td>January</td>\n",
       "      <td>NaN</td>\n",
       "    </tr>\n",
       "    <tr>\n",
       "      <th>3</th>\n",
       "      <td>February</td>\n",
       "      <td>NaN</td>\n",
       "    </tr>\n",
       "    <tr>\n",
       "      <th>4</th>\n",
       "      <td>June</td>\n",
       "      <td>NaN</td>\n",
       "    </tr>\n",
       "    <tr>\n",
       "      <th>...</th>\n",
       "      <td>...</td>\n",
       "      <td>...</td>\n",
       "    </tr>\n",
       "    <tr>\n",
       "      <th>445</th>\n",
       "      <td>NaN</td>\n",
       "      <td>10.0</td>\n",
       "    </tr>\n",
       "    <tr>\n",
       "      <th>446</th>\n",
       "      <td>NaN</td>\n",
       "      <td>NaN</td>\n",
       "    </tr>\n",
       "    <tr>\n",
       "      <th>447</th>\n",
       "      <td>NaN</td>\n",
       "      <td>NaN</td>\n",
       "    </tr>\n",
       "    <tr>\n",
       "      <th>448</th>\n",
       "      <td>NaN</td>\n",
       "      <td>NaN</td>\n",
       "    </tr>\n",
       "    <tr>\n",
       "      <th>449</th>\n",
       "      <td>NaN</td>\n",
       "      <td>NaN</td>\n",
       "    </tr>\n",
       "  </tbody>\n",
       "</table>\n",
       "<p>900 rows × 2 columns</p>\n",
       "</div>"
      ],
      "text/plain": [
       "            0  Job created\n",
       "0       March          NaN\n",
       "1       April          NaN\n",
       "2     January          NaN\n",
       "3    February          NaN\n",
       "4        June          NaN\n",
       "..        ...          ...\n",
       "445       NaN         10.0\n",
       "446       NaN          NaN\n",
       "447       NaN          NaN\n",
       "448       NaN          NaN\n",
       "449       NaN          NaN\n",
       "\n",
       "[900 rows x 2 columns]"
      ]
     },
     "execution_count": 280,
     "metadata": {},
     "output_type": "execute_result"
    }
   ],
   "source": [
    "Jobs1"
   ]
  },
  {
   "cell_type": "code",
   "execution_count": 281,
   "id": "1e3b8e44",
   "metadata": {},
   "outputs": [],
   "source": [
    "Jobs1['Job created'] = Jobs1['Job created'].fillna(0)"
   ]
  },
  {
   "cell_type": "code",
   "execution_count": 282,
   "id": "6189357d",
   "metadata": {},
   "outputs": [
    {
     "data": {
      "text/html": [
       "<div>\n",
       "<style scoped>\n",
       "    .dataframe tbody tr th:only-of-type {\n",
       "        vertical-align: middle;\n",
       "    }\n",
       "\n",
       "    .dataframe tbody tr th {\n",
       "        vertical-align: top;\n",
       "    }\n",
       "\n",
       "    .dataframe thead th {\n",
       "        text-align: right;\n",
       "    }\n",
       "</style>\n",
       "<table border=\"1\" class=\"dataframe\">\n",
       "  <thead>\n",
       "    <tr style=\"text-align: right;\">\n",
       "      <th></th>\n",
       "      <th>0</th>\n",
       "      <th>Job created</th>\n",
       "    </tr>\n",
       "  </thead>\n",
       "  <tbody>\n",
       "    <tr>\n",
       "      <th>0</th>\n",
       "      <td>March</td>\n",
       "      <td>0.0</td>\n",
       "    </tr>\n",
       "    <tr>\n",
       "      <th>1</th>\n",
       "      <td>April</td>\n",
       "      <td>0.0</td>\n",
       "    </tr>\n",
       "    <tr>\n",
       "      <th>2</th>\n",
       "      <td>January</td>\n",
       "      <td>0.0</td>\n",
       "    </tr>\n",
       "    <tr>\n",
       "      <th>3</th>\n",
       "      <td>February</td>\n",
       "      <td>0.0</td>\n",
       "    </tr>\n",
       "    <tr>\n",
       "      <th>4</th>\n",
       "      <td>June</td>\n",
       "      <td>0.0</td>\n",
       "    </tr>\n",
       "    <tr>\n",
       "      <th>...</th>\n",
       "      <td>...</td>\n",
       "      <td>...</td>\n",
       "    </tr>\n",
       "    <tr>\n",
       "      <th>445</th>\n",
       "      <td>NaN</td>\n",
       "      <td>10.0</td>\n",
       "    </tr>\n",
       "    <tr>\n",
       "      <th>446</th>\n",
       "      <td>NaN</td>\n",
       "      <td>0.0</td>\n",
       "    </tr>\n",
       "    <tr>\n",
       "      <th>447</th>\n",
       "      <td>NaN</td>\n",
       "      <td>0.0</td>\n",
       "    </tr>\n",
       "    <tr>\n",
       "      <th>448</th>\n",
       "      <td>NaN</td>\n",
       "      <td>0.0</td>\n",
       "    </tr>\n",
       "    <tr>\n",
       "      <th>449</th>\n",
       "      <td>NaN</td>\n",
       "      <td>0.0</td>\n",
       "    </tr>\n",
       "  </tbody>\n",
       "</table>\n",
       "<p>900 rows × 2 columns</p>\n",
       "</div>"
      ],
      "text/plain": [
       "            0  Job created\n",
       "0       March          0.0\n",
       "1       April          0.0\n",
       "2     January          0.0\n",
       "3    February          0.0\n",
       "4        June          0.0\n",
       "..        ...          ...\n",
       "445       NaN         10.0\n",
       "446       NaN          0.0\n",
       "447       NaN          0.0\n",
       "448       NaN          0.0\n",
       "449       NaN          0.0\n",
       "\n",
       "[900 rows x 2 columns]"
      ]
     },
     "execution_count": 282,
     "metadata": {},
     "output_type": "execute_result"
    }
   ],
   "source": [
    "Jobs1"
   ]
  },
  {
   "cell_type": "code",
   "execution_count": 283,
   "id": "9549697f",
   "metadata": {},
   "outputs": [],
   "source": [
    "Jobs1 = Jobs1.rename(columns={0: 'Months'})"
   ]
  },
  {
   "cell_type": "code",
   "execution_count": 284,
   "id": "705dbf2c",
   "metadata": {},
   "outputs": [
    {
     "data": {
      "text/html": [
       "<div>\n",
       "<style scoped>\n",
       "    .dataframe tbody tr th:only-of-type {\n",
       "        vertical-align: middle;\n",
       "    }\n",
       "\n",
       "    .dataframe tbody tr th {\n",
       "        vertical-align: top;\n",
       "    }\n",
       "\n",
       "    .dataframe thead th {\n",
       "        text-align: right;\n",
       "    }\n",
       "</style>\n",
       "<table border=\"1\" class=\"dataframe\">\n",
       "  <thead>\n",
       "    <tr style=\"text-align: right;\">\n",
       "      <th></th>\n",
       "      <th>Months</th>\n",
       "      <th>Job created</th>\n",
       "    </tr>\n",
       "  </thead>\n",
       "  <tbody>\n",
       "    <tr>\n",
       "      <th>0</th>\n",
       "      <td>March</td>\n",
       "      <td>0.0</td>\n",
       "    </tr>\n",
       "    <tr>\n",
       "      <th>1</th>\n",
       "      <td>April</td>\n",
       "      <td>0.0</td>\n",
       "    </tr>\n",
       "    <tr>\n",
       "      <th>2</th>\n",
       "      <td>January</td>\n",
       "      <td>0.0</td>\n",
       "    </tr>\n",
       "    <tr>\n",
       "      <th>3</th>\n",
       "      <td>February</td>\n",
       "      <td>0.0</td>\n",
       "    </tr>\n",
       "    <tr>\n",
       "      <th>4</th>\n",
       "      <td>June</td>\n",
       "      <td>0.0</td>\n",
       "    </tr>\n",
       "    <tr>\n",
       "      <th>...</th>\n",
       "      <td>...</td>\n",
       "      <td>...</td>\n",
       "    </tr>\n",
       "    <tr>\n",
       "      <th>445</th>\n",
       "      <td>NaN</td>\n",
       "      <td>10.0</td>\n",
       "    </tr>\n",
       "    <tr>\n",
       "      <th>446</th>\n",
       "      <td>NaN</td>\n",
       "      <td>0.0</td>\n",
       "    </tr>\n",
       "    <tr>\n",
       "      <th>447</th>\n",
       "      <td>NaN</td>\n",
       "      <td>0.0</td>\n",
       "    </tr>\n",
       "    <tr>\n",
       "      <th>448</th>\n",
       "      <td>NaN</td>\n",
       "      <td>0.0</td>\n",
       "    </tr>\n",
       "    <tr>\n",
       "      <th>449</th>\n",
       "      <td>NaN</td>\n",
       "      <td>0.0</td>\n",
       "    </tr>\n",
       "  </tbody>\n",
       "</table>\n",
       "<p>900 rows × 2 columns</p>\n",
       "</div>"
      ],
      "text/plain": [
       "       Months  Job created\n",
       "0       March          0.0\n",
       "1       April          0.0\n",
       "2     January          0.0\n",
       "3    February          0.0\n",
       "4        June          0.0\n",
       "..        ...          ...\n",
       "445       NaN         10.0\n",
       "446       NaN          0.0\n",
       "447       NaN          0.0\n",
       "448       NaN          0.0\n",
       "449       NaN          0.0\n",
       "\n",
       "[900 rows x 2 columns]"
      ]
     },
     "execution_count": 284,
     "metadata": {},
     "output_type": "execute_result"
    }
   ],
   "source": [
    "Jobs1"
   ]
  },
  {
   "cell_type": "code",
   "execution_count": 285,
   "id": "24293f97",
   "metadata": {},
   "outputs": [
    {
     "data": {
      "text/html": [
       "<div>\n",
       "<style scoped>\n",
       "    .dataframe tbody tr th:only-of-type {\n",
       "        vertical-align: middle;\n",
       "    }\n",
       "\n",
       "    .dataframe tbody tr th {\n",
       "        vertical-align: top;\n",
       "    }\n",
       "\n",
       "    .dataframe thead th {\n",
       "        text-align: right;\n",
       "    }\n",
       "</style>\n",
       "<table border=\"1\" class=\"dataframe\">\n",
       "  <thead>\n",
       "    <tr style=\"text-align: right;\">\n",
       "      <th></th>\n",
       "      <th>Months</th>\n",
       "      <th>Job created</th>\n",
       "    </tr>\n",
       "  </thead>\n",
       "  <tbody>\n",
       "    <tr>\n",
       "      <th>0</th>\n",
       "      <td>March</td>\n",
       "      <td>0.0</td>\n",
       "    </tr>\n",
       "    <tr>\n",
       "      <th>1</th>\n",
       "      <td>April</td>\n",
       "      <td>0.0</td>\n",
       "    </tr>\n",
       "    <tr>\n",
       "      <th>2</th>\n",
       "      <td>January</td>\n",
       "      <td>0.0</td>\n",
       "    </tr>\n",
       "    <tr>\n",
       "      <th>3</th>\n",
       "      <td>February</td>\n",
       "      <td>0.0</td>\n",
       "    </tr>\n",
       "    <tr>\n",
       "      <th>4</th>\n",
       "      <td>June</td>\n",
       "      <td>0.0</td>\n",
       "    </tr>\n",
       "    <tr>\n",
       "      <th>...</th>\n",
       "      <td>...</td>\n",
       "      <td>...</td>\n",
       "    </tr>\n",
       "    <tr>\n",
       "      <th>445</th>\n",
       "      <td>December</td>\n",
       "      <td>0.0</td>\n",
       "    </tr>\n",
       "    <tr>\n",
       "      <th>446</th>\n",
       "      <td>December</td>\n",
       "      <td>0.0</td>\n",
       "    </tr>\n",
       "    <tr>\n",
       "      <th>447</th>\n",
       "      <td>August</td>\n",
       "      <td>0.0</td>\n",
       "    </tr>\n",
       "    <tr>\n",
       "      <th>448</th>\n",
       "      <td>January</td>\n",
       "      <td>0.0</td>\n",
       "    </tr>\n",
       "    <tr>\n",
       "      <th>449</th>\n",
       "      <td>October</td>\n",
       "      <td>0.0</td>\n",
       "    </tr>\n",
       "  </tbody>\n",
       "</table>\n",
       "<p>450 rows × 2 columns</p>\n",
       "</div>"
      ],
      "text/plain": [
       "       Months  Job created\n",
       "0       March          0.0\n",
       "1       April          0.0\n",
       "2     January          0.0\n",
       "3    February          0.0\n",
       "4        June          0.0\n",
       "..        ...          ...\n",
       "445  December          0.0\n",
       "446  December          0.0\n",
       "447    August          0.0\n",
       "448   January          0.0\n",
       "449   October          0.0\n",
       "\n",
       "[450 rows x 2 columns]"
      ]
     },
     "execution_count": 285,
     "metadata": {},
     "output_type": "execute_result"
    }
   ],
   "source": [
    "Jobs1.dropna(axis=0)"
   ]
  },
  {
   "cell_type": "code",
   "execution_count": 286,
   "id": "bf36d943",
   "metadata": {},
   "outputs": [],
   "source": [
    "Jobs_per_month = Jobs1.groupby('Months')[['Job created']].sum()"
   ]
  },
  {
   "cell_type": "code",
   "execution_count": 253,
   "id": "85633cad",
   "metadata": {},
   "outputs": [
    {
     "data": {
      "text/html": [
       "<div>\n",
       "<style scoped>\n",
       "    .dataframe tbody tr th:only-of-type {\n",
       "        vertical-align: middle;\n",
       "    }\n",
       "\n",
       "    .dataframe tbody tr th {\n",
       "        vertical-align: top;\n",
       "    }\n",
       "\n",
       "    .dataframe thead th {\n",
       "        text-align: right;\n",
       "    }\n",
       "</style>\n",
       "<table border=\"1\" class=\"dataframe\">\n",
       "  <thead>\n",
       "    <tr style=\"text-align: right;\">\n",
       "      <th></th>\n",
       "      <th>Job created</th>\n",
       "    </tr>\n",
       "    <tr>\n",
       "      <th>Months</th>\n",
       "      <th></th>\n",
       "    </tr>\n",
       "  </thead>\n",
       "  <tbody>\n",
       "    <tr>\n",
       "      <th>April</th>\n",
       "      <td>0.0</td>\n",
       "    </tr>\n",
       "    <tr>\n",
       "      <th>August</th>\n",
       "      <td>0.0</td>\n",
       "    </tr>\n",
       "    <tr>\n",
       "      <th>December</th>\n",
       "      <td>0.0</td>\n",
       "    </tr>\n",
       "    <tr>\n",
       "      <th>February</th>\n",
       "      <td>0.0</td>\n",
       "    </tr>\n",
       "    <tr>\n",
       "      <th>January</th>\n",
       "      <td>0.0</td>\n",
       "    </tr>\n",
       "    <tr>\n",
       "      <th>July</th>\n",
       "      <td>0.0</td>\n",
       "    </tr>\n",
       "    <tr>\n",
       "      <th>June</th>\n",
       "      <td>0.0</td>\n",
       "    </tr>\n",
       "    <tr>\n",
       "      <th>March</th>\n",
       "      <td>0.0</td>\n",
       "    </tr>\n",
       "    <tr>\n",
       "      <th>May</th>\n",
       "      <td>0.0</td>\n",
       "    </tr>\n",
       "    <tr>\n",
       "      <th>November</th>\n",
       "      <td>0.0</td>\n",
       "    </tr>\n",
       "    <tr>\n",
       "      <th>October</th>\n",
       "      <td>0.0</td>\n",
       "    </tr>\n",
       "    <tr>\n",
       "      <th>September</th>\n",
       "      <td>0.0</td>\n",
       "    </tr>\n",
       "  </tbody>\n",
       "</table>\n",
       "</div>"
      ],
      "text/plain": [
       "           Job created\n",
       "Months                \n",
       "April              0.0\n",
       "August             0.0\n",
       "December           0.0\n",
       "February           0.0\n",
       "January            0.0\n",
       "July               0.0\n",
       "June               0.0\n",
       "March              0.0\n",
       "May                0.0\n",
       "November           0.0\n",
       "October            0.0\n",
       "September          0.0"
      ]
     },
     "execution_count": 253,
     "metadata": {},
     "output_type": "execute_result"
    }
   ],
   "source": [
    "Jobs_per_month"
   ]
  },
  {
   "cell_type": "code",
   "execution_count": 288,
   "id": "553e858e",
   "metadata": {},
   "outputs": [
    {
     "data": {
      "text/plain": [
       "<Axes: xlabel='Months', ylabel='Job created'>"
      ]
     },
     "execution_count": 288,
     "metadata": {},
     "output_type": "execute_result"
    },
    {
     "data": {
      "image/png": "[encoded data removed]",
      "text/plain": [
       "<Figure size 640x480 with 1 Axes>"
      ]
     },
     "metadata": {},
     "output_type": "display_data"
    }
   ],
   "source": [
    "sns.lineplot(x='Months', y= 'Job created', data=Jobs_per_month)"
   ]
  },
  {
   "cell_type": "code",
   "execution_count": 249,
   "id": "2a11915e",
   "metadata": {},
   "outputs": [],
   "source": []
  },
  {
   "cell_type": "code",
   "execution_count": null,
   "id": "4d7917b7",
   "metadata": {},
   "outputs": [],
   "source": []
  }
 ],
 "metadata": {
  "kernelspec": {
   "display_name": "Python 3 (ipykernel)",
   "language": "python",
   "name": "python3"
  },
  "language_info": {
   "codemirror_mode": {
    "name": "ipython",
    "version": 3
   },
   "file_extension": ".py",
   "mimetype": "text/x-python",
   "name": "python",
   "nbconvert_exporter": "python",
   "pygments_lexer": "ipython3",
   "version": "3.10.9"
  },
  "varInspector": {
   "cols": {
    "lenName": 16,
    "lenType": 16,
    "lenVar": 40
   },
   "kernels_config": {
    "python": {
     "delete_cmd_postfix": "",
     "delete_cmd_prefix": "del ",
     "library": "var_list.py",
     "varRefreshCmd": "print(var_dic_list())"
    },
    "r": {
     "delete_cmd_postfix": ") ",
     "delete_cmd_prefix": "rm(",
     "library": "var_list.r",
     "varRefreshCmd": "cat(var_dic_list()) "
    }
   },
   "types_to_exclude": [
    "module",
    "function",
    "builtin_function_or_method",
    "instance",
    "_Feature"
   ],
   "window_display": false
  }
 },
 "nbformat": 4,
 "nbformat_minor": 5
}
